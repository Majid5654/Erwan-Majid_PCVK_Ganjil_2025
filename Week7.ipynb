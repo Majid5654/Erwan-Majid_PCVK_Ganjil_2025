{
  "nbformat": 4,
  "nbformat_minor": 0,
  "metadata": {
    "colab": {
      "provenance": [],
      "authorship_tag": "ABX9TyNn86ITG3rxKHO3m+OCyjS/",
      "include_colab_link": true
    },
    "kernelspec": {
      "name": "python3",
      "display_name": "Python 3"
    },
    "language_info": {
      "name": "python"
    }
  },
  "cells": [
    {
      "cell_type": "markdown",
      "metadata": {
        "id": "view-in-github",
        "colab_type": "text"
      },
      "source": [
        "<a href=\"https://colab.research.google.com/github/Majid5654/Erwan-Majid_PCVK_Ganjil_2025/blob/main/Week7.ipynb\" target=\"_parent\"><img src=\"https://colab.research.google.com/assets/colab-badge.svg\" alt=\"Open In Colab\"/></a>"
      ]
    },
    {
      "cell_type": "markdown",
      "source": [
        "2. The following are steps that can be taken :\n",
        "b. Access the files contained on the drive and import some of the libraries that are\n",
        "needed"
      ],
      "metadata": {
        "id": "90ZFmf2x23L5"
      }
    },
    {
      "cell_type": "code",
      "execution_count": 3,
      "metadata": {
        "id": "VqfJKDco0-3o",
        "colab": {
          "base_uri": "https://localhost:8080/"
        },
        "outputId": "f61aa8b3-89c5-4858-edd7-61b80a21ec92"
      },
      "outputs": [
        {
          "output_type": "stream",
          "name": "stdout",
          "text": [
            "Mounted at /content/drive\n"
          ]
        }
      ],
      "source": [
        "from google.colab import drive\n",
        "drive.mount('/content/drive')"
      ]
    },
    {
      "cell_type": "code",
      "source": [
        "import numpy as np\n",
        "import pandas as pd\n",
        "import matplotlib.pyplot as plt\n",
        "import seaborn as sns\n",
        "from PIL import Image as im\n",
        "import cv2 as cv"
      ],
      "metadata": {
        "id": "V7xjSQPv266o"
      },
      "execution_count": 2,
      "outputs": []
    },
    {
      "cell_type": "code",
      "source": [
        "c. Create a convolutional function . Note : the parameters used may be modified . For\n",
        "example , only uses parameters and kernel image only , or image, kernel, and padding."
      ],
      "metadata": {
        "id": "yXZnL07Q5QoP"
      },
      "execution_count": null,
      "outputs": []
    }
  ]
}