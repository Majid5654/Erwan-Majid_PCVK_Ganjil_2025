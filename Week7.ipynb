{
  "nbformat": 4,
  "nbformat_minor": 0,
  "metadata": {
    "colab": {
      "provenance": [],
      "authorship_tag": "ABX9TyO7eYAzSbrL2IMcUJQ4Tf+4",
      "include_colab_link": true
    },
    "kernelspec": {
      "name": "python3",
      "display_name": "Python 3"
    },
    "language_info": {
      "name": "python"
    }
  },
  "cells": [
    {
      "cell_type": "markdown",
      "metadata": {
        "id": "view-in-github",
        "colab_type": "text"
      },
      "source": [
        "<a href=\"https://colab.research.google.com/github/Majid5654/Erwan-Majid_PCVK_Ganjil_2025/blob/main/Week7.ipynb\" target=\"_parent\"><img src=\"https://colab.research.google.com/assets/colab-badge.svg\" alt=\"Open In Colab\"/></a>"
      ]
    },
    {
      "cell_type": "markdown",
      "source": [
        "2. The following are steps that can be taken :\n",
        "b. Access the files contained on the drive and import some of the libraries that are\n",
        "needed"
      ],
      "metadata": {
        "id": "90ZFmf2x23L5"
      }
    },
    {
      "cell_type": "markdown",
      "source": [
        "b. Access the files contained on the drive and import some of the libraries that are\n",
        "needed"
      ],
      "metadata": {
        "id": "ArDgy0Gd8rFx"
      }
    },
    {
      "cell_type": "code",
      "execution_count": 4,
      "metadata": {
        "id": "VqfJKDco0-3o",
        "colab": {
          "base_uri": "https://localhost:8080/"
        },
        "outputId": "2caa98e1-7383-4be7-c7c3-4ec00dafcc0e"
      },
      "outputs": [
        {
          "output_type": "stream",
          "name": "stdout",
          "text": [
            "Mounted at /content/drive\n"
          ]
        }
      ],
      "source": [
        "from google.colab import drive\n",
        "drive.mount('/content/drive')"
      ]
    },
    {
      "cell_type": "code",
      "source": [
        "import numpy as np\n",
        "import pandas as pd\n",
        "import matplotlib.pyplot as plt\n",
        "import seaborn as sns\n",
        "from PIL import Image as im\n",
        "import cv2 as cv\n",
        "import math"
      ],
      "metadata": {
        "id": "V7xjSQPv266o"
      },
      "execution_count": 11,
      "outputs": []
    },
    {
      "cell_type": "markdown",
      "source": [
        "c. Create a convolutional function . Note : the parameters used may be modified . For\n",
        "example , only uses parameters and kernel image only , or image, kernel, and padding."
      ],
      "metadata": {
        "id": "alWVDCDj5UP7"
      }
    },
    {
      "cell_type": "markdown",
      "source": [
        "Konvolusi tanpa library"
      ],
      "metadata": {
        "id": "-_UUGgmY5jX3"
      }
    },
    {
      "cell_type": "code",
      "source": [
        "def convolution2d(image, kernel, stride=1, padding='zero'):\n",
        "    pass"
      ],
      "metadata": {
        "id": "yXZnL07Q5QoP"
      },
      "execution_count": 3,
      "outputs": []
    },
    {
      "cell_type": "markdown",
      "source": [
        "d. Load the image to be processed and turn it into a gray image"
      ],
      "metadata": {
        "id": "_cU8hyG75qzN"
      }
    },
    {
      "cell_type": "code",
      "source": [
        "img = cv.imread('/content/drive/MyDrive/PCVK/mandrill.tiff')\n",
        "img_gray = cv.cvtColor(img,cv.COLOR_BGR2GRAY)"
      ],
      "metadata": {
        "id": "b4QdtxVm5sP7"
      },
      "execution_count": 6,
      "outputs": []
    },
    {
      "cell_type": "markdown",
      "source": [
        "e. Determine the kernel that will be used , for example, the kernel to filter sharpening\n",
        "as follows :"
      ],
      "metadata": {
        "id": "VBfmzmCh7csQ"
      }
    },
    {
      "cell_type": "code",
      "source": [
        "#image sharpen\n",
        "Kernel_sharpen = np.array([[0,-1,0],\n",
        " [-1,5,-1],\n",
        "  [0,-1,0]])"
      ],
      "metadata": {
        "id": "OgHey-DZ77h4"
      },
      "execution_count": 7,
      "outputs": []
    },
    {
      "cell_type": "markdown",
      "source": [
        "f.\n",
        "Calling a function convolution that has been created previously , and displays the\n",
        "results konvolusinya :"
      ],
      "metadata": {
        "id": "sAHsfz_J9tQB"
      }
    },
    {
      "cell_type": "code",
      "source": [
        "convolution2d(img_gray,Kernel_sharpen,1,2)"
      ],
      "metadata": {
        "id": "-QaPiTGb95ND"
      },
      "execution_count": 8,
      "outputs": []
    },
    {
      "cell_type": "markdown",
      "source": [
        "3. Create Image Filter for Average filter, low pass filter, high pass filter, and some of the following\n",
        "filters :"
      ],
      "metadata": {
        "id": "I3wLbv-k_Esl"
      }
    },
    {
      "cell_type": "code",
      "source": [
        "kernels = {\n",
        "    \"average\": np.ones((3,3), dtype=np.float32) / 9.0,\n",
        "    \"lowpass_1_12\": np.array([[1,1,1],[1,4,1],[1,1,1]], dtype=np.float32) / 12.0,\n",
        "    \"highpass\" : np.array([[-1, -1, -1],\n",
        "                     [-1,  8, -1],\n",
        "                     [-1, -1, -1]], dtype=np.float32),\n",
        "    \"sharpen\": np.array([[0,-1,0],[-1,5,-1],[0,-1,0]], dtype=np.float32),\n",
        "    \"emboss\": np.array([[-2,-1,0],[-1,1,1],[0,1,2]], dtype=np.float32),\n",
        "    \"sobel_x\": np.array([[1,0,-1],[2,0,-2],[1,0,-1]], dtype=np.float32),\n",
        "    \"Canny Edge Detection\": np.array([[-1,-1,-1],[-1,8,-1],[-1,-1,-1]], dtype=np.float32),\n",
        "\n",
        "}\n",
        "kernel_size = 21\n",
        "sigma = math.sqrt(kernel_size)\n",
        "gaussian_kernel = cv.getGaussianKernel(kernel_size, sigma)\n",
        "gauss_kernel = gaussian_kernel @ gaussian_kernel.transpose()\n",
        "kernels[\"gaussian_21x21\"] = gauss_kernel\n"
      ],
      "metadata": {
        "id": "5KgzqvC5AB6q"
      },
      "execution_count": 10,
      "outputs": []
    },
    {
      "cell_type": "code",
      "source": [],
      "metadata": {
        "id": "fE_GWE6AAkyg"
      },
      "execution_count": null,
      "outputs": []
    }
  ]
}